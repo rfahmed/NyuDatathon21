{
 "cells": [
  {
   "cell_type": "markdown",
   "metadata": {},
   "source": [
    "# Wisconsin Visualization (2012)"
   ]
  },
  {
   "cell_type": "code",
   "execution_count": null,
   "metadata": {},
   "outputs": [],
   "source": [
    "from bokeh.io import output_notebook, show, output_file\n",
    "from bokeh.plotting import figure, ColumnDataSource\n",
    "from bokeh.tile_providers import get_provider, Vendors\n",
    "from bokeh.palettes import PRGn, RdYlGn, Set3\n",
    "from bokeh.transform import linear_cmap,factor_cmap\n",
    "from bokeh.layouts import row, column\n",
    "from bokeh.models import GeoJSONDataSource, LinearColorMapper, ColorBar, NumeralTickFormatter\n",
    "import numpy as np\n",
    "import pandas as pd"
   ]
  },
  {
   "cell_type": "code",
   "execution_count": null,
   "metadata": {},
   "outputs": [],
   "source": [
    "import pandas as pd\n",
    "\n",
    "data = pd.read_csv(\"2012WIData.csv\")\n",
    "data.drop(\"Unnamed: 0\",axis = 1, inplace=True)\n",
    "\n",
    "data.head()"
   ]
  },
  {
   "cell_type": "markdown",
   "metadata": {},
   "source": [
    "# Convert Latitude/Longitude to Mercator Coordinates"
   ]
  },
  {
   "cell_type": "code",
   "execution_count": null,
   "metadata": {},
   "outputs": [],
   "source": [
    "# function below converts longitude/latitude to mercator coordinates because bokeh does not use longitude/latitude\n",
    "\n",
    "# returns latitude as float (will get an error when showing visual if not a float)\n",
    "\n",
    "def x_coord(x, y):\n",
    "    \n",
    "    lat = x\n",
    "    lon = y\n",
    "    \n",
    "    r_major = 6378137.000\n",
    "    x = r_major * np.radians(lon)\n",
    "    scale = x/lon\n",
    "    y = 180.0/np.pi * np.log(np.tan(np.pi/4.0 + \n",
    "        lat * (np.pi/180.0)/2.0)) * scale\n",
    "    return float(x)\n",
    "\n",
    "data['Coordinates'] = list(zip(data['Residence_Addresses_Latitude'], data['Residence_Addresses_Longitude']))\n",
    "\n",
    "mercator_x = [x_coord(x, y) for x, y in data['Coordinates'] ]\n",
    "data[\"mercator_x\"] = mercator_x"
   ]
  },
  {
   "cell_type": "code",
   "execution_count": null,
   "metadata": {},
   "outputs": [],
   "source": [
    "# returns longitude as float (will get an error when showing visual if not a float)\n",
    "\n",
    "def y_coord(x, y):\n",
    "    \n",
    "    lat = x\n",
    "    lon = y\n",
    "    \n",
    "    r_major = 6378137.000\n",
    "    x = r_major * np.radians(lon)\n",
    "    scale = x/lon\n",
    "    y = 180.0/np.pi * np.log(np.tan(np.pi/4.0 + \n",
    "        lat * (np.pi/180.0)/2.0)) * scale\n",
    "    return float(y)\n",
    "\n",
    "data['Coordinates'] = list(zip(data['Residence_Addresses_Latitude'], data['Residence_Addresses_Longitude']))\n",
    "\n",
    "mercator_y = [y_coord(x, y) for x, y in data['Coordinates'] ]\n",
    "data[\"mercator_y\"] = mercator_y"
   ]
  },
  {
   "cell_type": "markdown",
   "metadata": {},
   "source": [
    "# New Column - Voted_in_2012 with Float Values"
   ]
  },
  {
   "cell_type": "markdown",
   "metadata": {},
   "source": [
    "1) Replaced NaN values with 0 (plot does not show if NaN values present)\n",
    "\n",
    "2) New column Voted_in_2012 where 0.0 = Did not Vote and 1.0 = Voted"
   ]
  },
  {
   "cell_type": "code",
   "execution_count": null,
   "metadata": {},
   "outputs": [],
   "source": [
    "data[\"General_2012_11_06\"] = data[\"General_2012_11_06\"].fillna(0) #fill NaN values\n",
    "data[\"Voted_in_2012\"] = data[\"General_2012_11_06\"].replace({0:0.0, \"Y\":1.0}) #1.0 = Voted in 2012 and 0.0 = did not vote\n",
    "data.head()"
   ]
  },
  {
   "cell_type": "code",
   "execution_count": null,
   "metadata": {},
   "outputs": [],
   "source": [
    "data = data.dropna()"
   ]
  },
  {
   "cell_type": "code",
   "execution_count": null,
   "metadata": {},
   "outputs": [],
   "source": [
    "data.dtypes #Checking to make sure mercator columns and Voted_in_2012 column are floats"
   ]
  },
  {
   "cell_type": "markdown",
   "metadata": {},
   "source": [
    "# Visualization"
   ]
  },
  {
   "cell_type": "code",
   "execution_count": null,
   "metadata": {},
   "outputs": [],
   "source": [
    "chosentile = get_provider(Vendors.STAMEN_TONER)"
   ]
  },
  {
   "cell_type": "code",
   "execution_count": null,
   "metadata": {},
   "outputs": [],
   "source": [
    "palette = Set3[10]\n",
    "source = ColumnDataSource(data = data)\n",
    "\n",
    "color_mapper = linear_cmap(field_name = 'Voted_in_2012', palette = palette, low = 0.0, high = 1.0)"
   ]
  },
  {
   "cell_type": "code",
   "execution_count": null,
   "metadata": {},
   "outputs": [],
   "source": [
    "# Create figure\n",
    "p = figure(title = '2012 Wisconsin Voter Location and Data', x_axis_type=\"mercator\", y_axis_type=\"mercator\", x_axis_label = 'Longitude', y_axis_label = 'Latitude')\n",
    "p.add_tile(chosentile)\n",
    "\n",
    "\n",
    "p.circle(x = 'mercator_x', y = 'mercator_y', color = color_mapper, source=source, size=4, fill_alpha = 0.7)\n",
    "\n",
    "output_notebook()\n",
    "output_file('Wisconsin_2012.html', title='2012 Wisconsin Voter Location and Data')"
   ]
  },
  {
   "cell_type": "code",
   "execution_count": null,
   "metadata": {},
   "outputs": [],
   "source": [
    "show(p)"
   ]
  },
  {
   "cell_type": "code",
   "execution_count": null,
   "metadata": {},
   "outputs": [],
   "source": []
  }
 ],
 "metadata": {
  "kernelspec": {
   "display_name": "Python 3",
   "language": "python",
   "name": "python3"
  },
  "language_info": {
   "codemirror_mode": {
    "name": "ipython",
    "version": 3
   },
   "file_extension": ".py",
   "mimetype": "text/x-python",
   "name": "python",
   "nbconvert_exporter": "python",
   "pygments_lexer": "ipython3",
   "version": "3.8.3"
  }
 },
 "nbformat": 4,
 "nbformat_minor": 4
}
