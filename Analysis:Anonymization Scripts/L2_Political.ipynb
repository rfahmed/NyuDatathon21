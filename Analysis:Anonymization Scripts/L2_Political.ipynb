{
 "cells": [
  {
   "cell_type": "code",
   "execution_count": 1,
   "metadata": {},
   "outputs": [],
   "source": [
    "import pandas as pd\n",
    "import numpy as np"
   ]
  },
  {
   "cell_type": "markdown",
   "metadata": {},
   "source": [
    "Note: I downloaded the data to my computer so the path is from my downloads. I have since deleted the data from my computer"
   ]
  },
  {
   "cell_type": "markdown",
   "metadata": {},
   "source": [
    "# 2016"
   ]
  },
  {
   "cell_type": "markdown",
   "metadata": {},
   "source": [
    "##### Read the voter id and margin data from the 5 closest states in the 2016 election. Then, get the counties that had a margin of less than 5% for each state. Then, read the latitude, longitude, and whether or not they voted from the Demographic and Voter History files. Lastly, join the files on the specific voter IDs that were in counties of margins less than 5%. "
   ]
  },
  {
   "cell_type": "markdown",
   "metadata": {},
   "source": [
    "## Michigan"
   ]
  },
  {
   "cell_type": "code",
   "execution_count": 5,
   "metadata": {},
   "outputs": [],
   "source": [
    "neededVariables = ['LALVOTERID','ElectionReturns_G16_Cnty_Margin_Clinton_D']\n",
    "dfMI = pd.read_csv('/Users/arjankang/Downloads/VM2--MI--2020-03-02/VM2--MI--2020-03-02-DEMOGRAPHIC.tab', sep='\\t', \n",
    "            dtype=str, encoding='unicode_escape', usecols = neededVariables)\n",
    "dfMI.dropna(inplace=True)"
   ]
  },
  {
   "cell_type": "code",
   "execution_count": 6,
   "metadata": {},
   "outputs": [],
   "source": [
    "marginsMI = dfMI['ElectionReturns_G16_Cnty_Margin_Clinton_D'].unique()\n",
    "marginsMI = marginsMI.astype(str)\n",
    "marginsMI = [x[:-1] for x in marginsMI]\n",
    "marginsMI = list(map(int, marginsMI))\n",
    "slimMarginsMI = [x for x in marginsMI if x <= 5 and x >= -5]"
   ]
  },
  {
   "cell_type": "code",
   "execution_count": 7,
   "metadata": {},
   "outputs": [],
   "source": [
    "string = '%'\n",
    "slimMarginsMI = [str(x) for x in slimMarginsMI]\n",
    "slimMarginsMI = [x + string for x in slimMarginsMI]"
   ]
  },
  {
   "cell_type": "code",
   "execution_count": 8,
   "metadata": {},
   "outputs": [],
   "source": [
    "dfSlimVoterIDsMI = dfMI.loc[dfMI['ElectionReturns_G16_Cnty_Margin_Clinton_D'].isin(slimMarginsMI)]"
   ]
  },
  {
   "cell_type": "code",
   "execution_count": 9,
   "metadata": {},
   "outputs": [],
   "source": [
    "neededColsDemo = ['Residence_Addresses_Latitude', 'Residence_Addresses_Longitude', 'LALVOTERID']\n",
    "neededColsVoteHist = ['General_2016_11_08', 'LALVOTERID']\n",
    "dfMIDemo = pd.read_csv('/Users/arjankang/Downloads/VM2--MI--2020-03-02/VM2--MI--2020-03-02-DEMOGRAPHIC.tab', \n",
    "                        sep='\\t', dtype=str, encoding='unicode_escape', usecols = neededColsDemo)\n",
    "dfMIDemo = dfMIDemo.loc[dfMIDemo['LALVOTERID'].isin(dfSlimVoterIDsMI['LALVOTERID'])]\n",
    "dfMIVoteHist = pd.read_csv('/Users/arjankang/Downloads/VM2--MI--2020-03-02/VM2--MI--2020-03-02-VOTEHISTORY.tab', \n",
    "                           sep='\\t', dtype=str, encoding='unicode_escape', usecols = neededColsVoteHist)\n",
    "dfMIVoteHist = dfMIVoteHist.loc[dfMIVoteHist['LALVOTERID'].isin(dfSlimVoterIDsMI['LALVOTERID'])]"
   ]
  },
  {
   "cell_type": "code",
   "execution_count": 10,
   "metadata": {},
   "outputs": [],
   "source": [
    "mergedMI = pd.merge(dfMIVoteHist, dfMIDemo, how = 'left', left_on = 'LALVOTERID', right_on = 'LALVOTERID')"
   ]
  },
  {
   "cell_type": "markdown",
   "metadata": {},
   "source": [
    "## New Hampshire"
   ]
  },
  {
   "cell_type": "code",
   "execution_count": 11,
   "metadata": {},
   "outputs": [],
   "source": [
    "dfNH = pd.read_csv('/Users/arjankang/Downloads/VM2--NH--2020-03-03/VM2--NH--2020-03-03-DEMOGRAPHIC.tab', sep='\\t', \n",
    "            dtype=str, encoding='unicode_escape', usecols = neededVariables)\n",
    "dfNH.dropna(inplace=True)"
   ]
  },
  {
   "cell_type": "code",
   "execution_count": 12,
   "metadata": {},
   "outputs": [],
   "source": [
    "marginsNH = dfNH['ElectionReturns_G16_Cnty_Margin_Clinton_D'].unique()\n",
    "marginsNH = marginsNH.astype(str)\n",
    "marginsNH = [x[:-1] for x in marginsNH]\n",
    "marginsNH = list(map(int, marginsNH))\n",
    "slimMarginsNH = [x for x in marginsNH if x <= 5 and x >= -5]"
   ]
  },
  {
   "cell_type": "code",
   "execution_count": 13,
   "metadata": {},
   "outputs": [],
   "source": [
    "string = '%'\n",
    "slimMarginsNH = [str(x) for x in slimMarginsNH]\n",
    "slimMarginsNH = [x + string for x in slimMarginsNH]"
   ]
  },
  {
   "cell_type": "code",
   "execution_count": 14,
   "metadata": {},
   "outputs": [],
   "source": [
    "dfSlimVoterIDsNH = dfNH.loc[dfNH['ElectionReturns_G16_Cnty_Margin_Clinton_D'].isin(slimMarginsNH)]"
   ]
  },
  {
   "cell_type": "code",
   "execution_count": 15,
   "metadata": {},
   "outputs": [],
   "source": [
    "neededColsDemo = ['Residence_Addresses_Latitude', 'Residence_Addresses_Longitude', 'LALVOTERID']\n",
    "neededColsVoteHist = ['General_2016_11_08', 'LALVOTERID']\n",
    "dfNHDemo = pd.read_csv('/Users/arjankang/Downloads/VM2--NH--2020-03-03/VM2--NH--2020-03-03-DEMOGRAPHIC.tab', \n",
    "                        sep='\\t', dtype=str, encoding='unicode_escape', usecols = neededColsDemo)\n",
    "dfNHDemo = dfNHDemo.loc[dfNHDemo['LALVOTERID'].isin(dfSlimVoterIDsNH['LALVOTERID'])]\n",
    "dfNHVoteHist = pd.read_csv('/Users/arjankang/Downloads/VM2--NH--2020-03-03/VM2--NH--2020-03-03-VOTEHISTORY.tab', \n",
    "                           sep='\\t', dtype=str, encoding='unicode_escape', usecols = neededColsVoteHist)\n",
    "dfNHVoteHist = dfNHVoteHist.loc[dfNHVoteHist['LALVOTERID'].isin(dfSlimVoterIDsNH['LALVOTERID'])]\n",
    "\n",
    "mergedNH = pd.merge(dfNHVoteHist, dfNHDemo, how = 'left', left_on = 'LALVOTERID', right_on = 'LALVOTERID')"
   ]
  },
  {
   "cell_type": "markdown",
   "metadata": {},
   "source": [
    "## Wisconsin"
   ]
  },
  {
   "cell_type": "code",
   "execution_count": 16,
   "metadata": {},
   "outputs": [],
   "source": [
    "dfWI = pd.read_csv('/Users/arjankang/Downloads/VM2--WI--2020-03-21/VM2--WI--2020-03-21-DEMOGRAPHIC.tab', sep='\\t', \n",
    "            dtype=str, encoding='unicode_escape', usecols = neededVariables)\n",
    "dfWI.dropna(inplace=True)"
   ]
  },
  {
   "cell_type": "code",
   "execution_count": 17,
   "metadata": {},
   "outputs": [],
   "source": [
    "marginsWI = dfWI['ElectionReturns_G16_Cnty_Margin_Clinton_D'].unique()\n",
    "marginsWI = marginsWI.astype(str)\n",
    "marginsWI = [x[:-1] for x in marginsWI]\n",
    "marginsWI = list(map(int, marginsWI))\n",
    "slimMarginsWI = [x for x in marginsWI if x <= 5 and x >= -5]"
   ]
  },
  {
   "cell_type": "code",
   "execution_count": 18,
   "metadata": {},
   "outputs": [],
   "source": [
    "string = '%'\n",
    "slimMarginsWI = [str(x) for x in slimMarginsWI]\n",
    "slimMarginsWI = [x + string for x in slimMarginsWI]"
   ]
  },
  {
   "cell_type": "code",
   "execution_count": 19,
   "metadata": {},
   "outputs": [],
   "source": [
    "dfSlimVoterIDsWI = dfWI.loc[dfWI['ElectionReturns_G16_Cnty_Margin_Clinton_D'].isin(slimMarginsWI)]"
   ]
  },
  {
   "cell_type": "code",
   "execution_count": 20,
   "metadata": {},
   "outputs": [],
   "source": [
    "neededColsDemo = ['Residence_Addresses_Latitude', 'Residence_Addresses_Longitude', 'LALVOTERID']\n",
    "neededColsVoteHist = ['General_2016_11_08', 'LALVOTERID']\n",
    "dfWIDemo = pd.read_csv('/Users/arjankang/Downloads/VM2--WI--2020-03-21/VM2--WI--2020-03-21-DEMOGRAPHIC.tab', \n",
    "                        sep='\\t', dtype=str, encoding='unicode_escape', usecols = neededColsDemo)\n",
    "dfWIDemo = dfWIDemo.loc[dfWIDemo['LALVOTERID'].isin(dfSlimVoterIDsWI['LALVOTERID'])]\n",
    "dfWIVoteHist = pd.read_csv('/Users/arjankang/Downloads/VM2--WI--2020-03-21/VM2--WI--2020-03-21-VOTEHISTORY.tab', \n",
    "                           sep='\\t', dtype=str, encoding='unicode_escape', usecols = neededColsVoteHist)\n",
    "dfWIVoteHist = dfWIVoteHist.loc[dfWIVoteHist['LALVOTERID'].isin(dfSlimVoterIDsWI['LALVOTERID'])]\n",
    "\n",
    "mergedWI = pd.merge(dfWIVoteHist, dfWIDemo, how = 'left', left_on = 'LALVOTERID', right_on = 'LALVOTERID')"
   ]
  },
  {
   "cell_type": "markdown",
   "metadata": {},
   "source": [
    "## Pennsylvania"
   ]
  },
  {
   "cell_type": "code",
   "execution_count": 21,
   "metadata": {},
   "outputs": [],
   "source": [
    "dfPA = pd.read_csv('/Users/arjankang/Downloads/VM2--PA--2020-03-20/VM2--PA--2020-03-20-DEMOGRAPHIC.tab', sep='\\t', \n",
    "            dtype=str, encoding='unicode_escape', usecols = neededVariables)\n",
    "dfPA.dropna(inplace=True)"
   ]
  },
  {
   "cell_type": "code",
   "execution_count": 22,
   "metadata": {},
   "outputs": [],
   "source": [
    "marginsPA = dfWI['ElectionReturns_G16_Cnty_Margin_Clinton_D'].unique()\n",
    "marginsPA = marginsPA.astype(str)\n",
    "marginsPA = [x[:-1] for x in marginsPA]\n",
    "marginsPA = list(map(int, marginsPA))\n",
    "slimMarginsPA = [x for x in marginsPA if x <= 5 and x >= -5]"
   ]
  },
  {
   "cell_type": "code",
   "execution_count": 23,
   "metadata": {},
   "outputs": [],
   "source": [
    "string = '%'\n",
    "slimMarginsPA = [str(x) for x in slimMarginsPA]\n",
    "slimMarginsPA = [x + string for x in slimMarginsPA]"
   ]
  },
  {
   "cell_type": "code",
   "execution_count": 24,
   "metadata": {},
   "outputs": [],
   "source": [
    "dfSlimVoterIDsPA = dfPA.loc[dfPA['ElectionReturns_G16_Cnty_Margin_Clinton_D'].isin(slimMarginsPA)]"
   ]
  },
  {
   "cell_type": "code",
   "execution_count": 25,
   "metadata": {},
   "outputs": [],
   "source": [
    "neededColsDemo = ['Residence_Addresses_Latitude', 'Residence_Addresses_Longitude', 'LALVOTERID']\n",
    "neededColsVoteHist = ['General_2016_11_08', 'LALVOTERID']\n",
    "dfPADemo = pd.read_csv('/Users/arjankang/Downloads/VM2--PA--2020-03-20/VM2--PA--2020-03-20-DEMOGRAPHIC.tab', \n",
    "                        sep='\\t', dtype=str, encoding='unicode_escape', usecols = neededColsDemo)\n",
    "dfPADemo = dfPADemo.loc[dfPADemo['LALVOTERID'].isin(dfSlimVoterIDsPA['LALVOTERID'])]\n",
    "dfPAVoteHist = pd.read_csv('/Users/arjankang/Downloads/VM2--PA--2020-03-20/VM2--PA--2020-03-20-VOTEHISTORY.tab', \n",
    "                           sep='\\t', dtype=str, encoding='unicode_escape', usecols = neededColsVoteHist)\n",
    "dfPAVoteHist = dfPAVoteHist.loc[dfPAVoteHist['LALVOTERID'].isin(dfSlimVoterIDsPA['LALVOTERID'])]\n",
    "\n",
    "mergedPA = pd.merge(dfPAVoteHist, dfPADemo, how = 'left', left_on = 'LALVOTERID', right_on = 'LALVOTERID')"
   ]
  },
  {
   "cell_type": "markdown",
   "metadata": {},
   "source": [
    "## Florida"
   ]
  },
  {
   "cell_type": "code",
   "execution_count": 26,
   "metadata": {},
   "outputs": [],
   "source": [
    "neededVariables = ['LALVOTERID','ElectionReturns_G16_Cnty_Margin_Clinton_D']\n",
    "dfFL = pd.read_csv('/Users/arjankang/Downloads/VM2--FL--2020-07-30/VM2--FL--2020-07-30-DEMOGRAPHIC.tab', sep='\\t', \n",
    "            dtype=str, encoding='unicode_escape', usecols = neededVariables)\n",
    "dfFL.dropna(inplace=True)"
   ]
  },
  {
   "cell_type": "code",
   "execution_count": 27,
   "metadata": {},
   "outputs": [],
   "source": [
    "marginsFL = dfWI['ElectionReturns_G16_Cnty_Margin_Clinton_D'].unique()\n",
    "marginsFL = marginsFL.astype(str)\n",
    "marginsFL = [x[:-1] for x in marginsFL]\n",
    "marginsFL = list(map(int, marginsFL))\n",
    "slimMarginsFL = [x for x in marginsFL if x <= 5 and x >= -5]"
   ]
  },
  {
   "cell_type": "code",
   "execution_count": 28,
   "metadata": {},
   "outputs": [],
   "source": [
    "string = '%'\n",
    "slimMarginsFL = [str(x) for x in slimMarginsFL]\n",
    "slimMarginsFL = [x + string for x in slimMarginsFL]"
   ]
  },
  {
   "cell_type": "code",
   "execution_count": 29,
   "metadata": {},
   "outputs": [],
   "source": [
    "dfSlimVoterIDsFL = dfFL.loc[dfFL['ElectionReturns_G16_Cnty_Margin_Clinton_D'].isin(slimMarginsFL)]"
   ]
  },
  {
   "cell_type": "code",
   "execution_count": 30,
   "metadata": {},
   "outputs": [],
   "source": [
    "neededColsDemo = ['Residence_Addresses_Latitude', 'Residence_Addresses_Longitude', 'LALVOTERID']\n",
    "neededColsVoteHist = ['General_2016_11_08', 'LALVOTERID']\n",
    "dfFLDemo = pd.read_csv('/Users/arjankang/Downloads/VM2--FL--2020-07-30/VM2--FL--2020-07-30-DEMOGRAPHIC.tab', \n",
    "                        sep='\\t', dtype=str, encoding='unicode_escape', usecols = neededColsDemo)\n",
    "dfFLDemo = dfFLDemo.loc[dfFLDemo['LALVOTERID'].isin(dfSlimVoterIDsFL['LALVOTERID'])]\n",
    "dfFLVoteHist = pd.read_csv('/Users/arjankang/Downloads/VM2--FL--2020-07-30/VM2--FL--2020-07-30-VOTEHISTORY.tab', \n",
    "                           sep='\\t', dtype=str, encoding='unicode_escape', usecols = neededColsVoteHist)\n",
    "dfFLVoteHist = dfFLVoteHist.loc[dfFLVoteHist['LALVOTERID'].isin(dfSlimVoterIDsFL['LALVOTERID'])]\n",
    "\n",
    "mergedFL = pd.merge(dfFLVoteHist, dfFLDemo, how = 'left', left_on = 'LALVOTERID', right_on = 'LALVOTERID')"
   ]
  },
  {
   "cell_type": "markdown",
   "metadata": {},
   "source": [
    "## Join"
   ]
  },
  {
   "cell_type": "markdown",
   "metadata": {},
   "source": [
    "#### Join the data into one dataframe to graph"
   ]
  },
  {
   "cell_type": "code",
   "execution_count": 35,
   "metadata": {},
   "outputs": [],
   "source": [
    "totalMergedDf2016 = pd.DataFrame(columns = ['LALVOTERID','Residence_Addresses_Latitude','Residence_Addresses_Longitude',\n",
    "                                       'General_2016_11_08'])\n",
    "merges = [mergedMI, mergedNH, mergedWI, mergedPA, mergedFL]\n",
    "\n",
    "# This is all of the 2016 voters in counties of of margins less than 5% in the closest 5 states\n",
    "totalMergedDf2016 = totalMergedDf2016.append(merges)"
   ]
  },
  {
   "cell_type": "code",
   "execution_count": 36,
   "metadata": {},
   "outputs": [],
   "source": [
    "totalMergedDf2016.to_csv(r'/Users/arjankang/Downloads/2016Data.csv')"
   ]
  },
  {
   "cell_type": "markdown",
   "metadata": {},
   "source": [
    "# 2012 and 2008"
   ]
  },
  {
   "cell_type": "markdown",
   "metadata": {},
   "source": [
    "#### Although we didn't end up graphing 2016 data, I had already downloaded those states and I didn't have storage to download any more data so we decided to use those states for the 2008 and 2012 data as well. \n",
    "#### Additionally, the plan was to do all 5 states (which is why there is data reading code for all 5) but we only ended up using Michigan and Wisconsin"
   ]
  },
  {
   "cell_type": "markdown",
   "metadata": {},
   "source": [
    "#### Get necessary variables from the datasets"
   ]
  },
  {
   "cell_type": "code",
   "execution_count": 70,
   "metadata": {},
   "outputs": [],
   "source": [
    "neededVariables = ['LALVOTERID','ElectionReturns_G12_Cnty_Margin_Obama_D', 'ElectionReturns_G08_Cnty_Margin_Obama_D']"
   ]
  },
  {
   "cell_type": "markdown",
   "metadata": {},
   "source": [
    "## Wisconsin and Michigan"
   ]
  },
  {
   "cell_type": "markdown",
   "metadata": {},
   "source": [
    "#### Specifically Wisconsin and Michigan (in a separate cell so that I wouldn't have to read all of the data after I closed the jupyter notebook)"
   ]
  },
  {
   "cell_type": "code",
   "execution_count": 2,
   "metadata": {},
   "outputs": [],
   "source": [
    "neededVariables = ['LALVOTERID','ElectionReturns_G12_Cnty_Margin_Obama_D', 'ElectionReturns_G08_Cnty_Margin_Obama_D']\n",
    "dfMI2 = pd.read_csv('/Users/arjankang/Downloads/VM2--MI--2020-03-02/VM2--MI--2020-03-02-DEMOGRAPHIC.tab', sep='\\t', \n",
    "            dtype=str, encoding='unicode_escape', usecols = neededVariables)\n",
    "dfMI2.dropna(inplace=True)\n",
    "\n",
    "dfWI2 = pd.read_csv('/Users/arjankang/Downloads/VM2--WI--2020-03-21/VM2--WI--2020-03-21-DEMOGRAPHIC.tab', sep='\\t', \n",
    "            dtype=str, encoding='unicode_escape', usecols = neededVariables)\n",
    "dfWI2.dropna(inplace=True)"
   ]
  },
  {
   "cell_type": "markdown",
   "metadata": {},
   "source": [
    "### Demographics and Voter History-Wisconsin and Michigan"
   ]
  },
  {
   "cell_type": "code",
   "execution_count": 4,
   "metadata": {},
   "outputs": [],
   "source": [
    "neededColsDemo = ['Residence_Addresses_Latitude', 'Residence_Addresses_Longitude', 'LALVOTERID']\n",
    "neededColsVoteHist = ['General_2012_11_06','General_2008_11_04','LALVOTERID']\n",
    "\n",
    "dfMIDemo2 = pd.read_csv('/Users/arjankang/Downloads/VM2--MI--2020-03-02/VM2--MI--2020-03-02-DEMOGRAPHIC.tab', \n",
    "                        sep='\\t', dtype=str, encoding='unicode_escape', usecols = neededColsDemo)\n",
    "dfMIVoteHist2 = pd.read_csv('/Users/arjankang/Downloads/VM2--MI--2020-03-02/VM2--MI--2020-03-02-VOTEHISTORY.tab', \n",
    "                           sep='\\t', dtype=str, encoding='unicode_escape', usecols = neededColsVoteHist)\n",
    "\n",
    "dfWIDemo2 = pd.read_csv('/Users/arjankang/Downloads/VM2--WI--2020-03-21/VM2--WI--2020-03-21-DEMOGRAPHIC.tab', \n",
    "                        sep='\\t', dtype=str, encoding='unicode_escape', usecols = neededColsDemo)\n",
    "dfWIVoteHist2 = pd.read_csv('/Users/arjankang/Downloads/VM2--WI--2020-03-21/VM2--WI--2020-03-21-VOTEHISTORY.tab', \n",
    "                           sep='\\t', dtype=str, encoding='unicode_escape', usecols = neededColsVoteHist)"
   ]
  },
  {
   "cell_type": "code",
   "execution_count": null,
   "metadata": {},
   "outputs": [],
   "source": [
    "neededColsDemo = ['Residence_Addresses_Latitude', 'Residence_Addresses_Longitude', 'LALVOTERID']\n",
    "neededColsVoteHist = ['General_2012_11_06','General_2008_11_04','LALVOTERID']\n",
    "\n",
    "dfMIDemo2 = pd.read_csv('/Users/arjankang/Downloads/VM2--MI--2020-03-02/VM2--MI--2020-03-02-DEMOGRAPHIC.tab', \n",
    "                        sep='\\t', dtype=str, encoding='unicode_escape', usecols = neededColsDemo)\n",
    "dfMIVoteHist2 = pd.read_csv('/Users/arjankang/Downloads/VM2--MI--2020-03-02/VM2--MI--2020-03-02-VOTEHISTORY.tab', \n",
    "                           sep='\\t', dtype=str, encoding='unicode_escape', usecols = neededColsVoteHist)\n",
    "dfNHDemo2 = pd.read_csv('/Users/arjankang/Downloads/VM2--NH--2020-03-03/VM2--NH--2020-03-03-DEMOGRAPHIC.tab', \n",
    "                        sep='\\t', dtype=str, encoding='unicode_escape', usecols = neededColsDemo)\n",
    "dfNHVoteHist2 = pd.read_csv('/Users/arjankang/Downloads/VM2--NH--2020-03-03/VM2--NH--2020-03-03-VOTEHISTORY.tab', \n",
    "                           sep='\\t', dtype=str, encoding='unicode_escape', usecols = neededColsVoteHist)\n",
    "dfWIDemo2 = pd.read_csv('/Users/arjankang/Downloads/VM2--WI--2020-03-21/VM2--WI--2020-03-21-DEMOGRAPHIC.tab', \n",
    "                        sep='\\t', dtype=str, encoding='unicode_escape', usecols = neededColsDemo)\n",
    "dfWIVoteHist2 = pd.read_csv('/Users/arjankang/Downloads/VM2--WI--2020-03-21/VM2--WI--2020-03-21-VOTEHISTORY.tab', \n",
    "                           sep='\\t', dtype=str, encoding='unicode_escape', usecols = neededColsVoteHist)\n",
    "dfPADemo2 = pd.read_csv('/Users/arjankang/Downloads/VM2--PA--2020-03-20/VM2--PA--2020-03-20-DEMOGRAPHIC.tab', \n",
    "                        sep='\\t', dtype=str, encoding='unicode_escape', usecols = neededColsDemo)\n",
    "dfPAVoteHist2 = pd.read_csv('/Users/arjankang/Downloads/VM2--PA--2020-03-20/VM2--PA--2020-03-20-VOTEHISTORY.tab', \n",
    "                           sep='\\t', dtype=str, encoding='unicode_escape', usecols = neededColsVoteHist)\n",
    "dfFLDemo2 = pd.read_csv('/Users/arjankang/Downloads/VM2--FL--2020-07-30/VM2--FL--2020-07-30-DEMOGRAPHIC.tab', \n",
    "                        sep='\\t', dtype=str, encoding='unicode_escape', usecols = neededColsDemo)\n",
    "dfFLVoteHist2 = pd.read_csv('/Users/arjankang/Downloads/VM2--FL--2020-07-30/VM2--FL--2020-07-30-VOTEHISTORY.tab', \n",
    "                           sep='\\t', dtype=str, encoding='unicode_escape', usecols = neededColsVoteHist)"
   ]
  },
  {
   "cell_type": "markdown",
   "metadata": {},
   "source": [
    "# 2012"
   ]
  },
  {
   "cell_type": "markdown",
   "metadata": {},
   "source": [
    "#### Functions to get the voter IDs in counties with margins less than 5% (1st) and then to merge with the latitude, longitude, and whether or not they voted in the elections (2nd)"
   ]
  },
  {
   "cell_type": "code",
   "execution_count": 5,
   "metadata": {},
   "outputs": [],
   "source": [
    "def getSlimVoterIDs2012(df):\n",
    "    \n",
    "    margins = df['ElectionReturns_G12_Cnty_Margin_Obama_D'].unique()\n",
    "    margins = margins.astype(str)\n",
    "    margins = [x[:-1] for x in margins]\n",
    "    margins = list(map(int, margins))\n",
    "    slimMargins = [x for x in margins if x <= 5 and x >= -5]\n",
    "    \n",
    "    string = '%'\n",
    "    slimMargins = [str(x) for x in slimMargins]\n",
    "    slimMargins = [x + string for x in slimMargins]\n",
    "    \n",
    "    dfSlimVoterIDs = df.loc[df['ElectionReturns_G12_Cnty_Margin_Obama_D'].isin(slimMargins)]\n",
    "    \n",
    "    return dfSlimVoterIDs\n",
    "    \n",
    "def mergeOnID(dfDemo, dfVoteHist, dfSlimVoterIDs):\n",
    "    dfDemo = dfDemo.loc[dfDemo['LALVOTERID'].isin(dfSlimVoterIDs['LALVOTERID'])]\n",
    "    dfVoteHist = dfVoteHist.loc[dfVoteHist['LALVOTERID'].isin(dfSlimVoterIDs['LALVOTERID'])]\n",
    "\n",
    "    merged = pd.merge(dfVoteHist, dfDemo, how = 'left', left_on = 'LALVOTERID', right_on = 'LALVOTERID')\n",
    "    \n",
    "    return merged"
   ]
  },
  {
   "cell_type": "code",
   "execution_count": 6,
   "metadata": {},
   "outputs": [],
   "source": [
    "#Michigan\n",
    "dfSlimVoterIDsMI = getSlimVoterIDs2012(dfMI2)\n",
    "mergedMI = mergeOnID(dfMIDemo2, dfMIVoteHist2, dfSlimVoterIDsMI)"
   ]
  },
  {
   "cell_type": "code",
   "execution_count": 7,
   "metadata": {},
   "outputs": [],
   "source": [
    "#Wisconsin\n",
    "dfSlimVoterIDsWI = getSlimVoterIDs2012(dfWI2)\n",
    "mergedWI = mergeOnID(dfWIDemo2, dfWIVoteHist2, dfSlimVoterIDsWI)"
   ]
  },
  {
   "cell_type": "markdown",
   "metadata": {},
   "source": [
    "#### Drop the 08 results and make the csv to export for visualization"
   ]
  },
  {
   "cell_type": "code",
   "execution_count": 8,
   "metadata": {},
   "outputs": [],
   "source": [
    "mergedMI.drop(columns = ['General_2008_11_04'], inplace=True)"
   ]
  },
  {
   "cell_type": "code",
   "execution_count": 9,
   "metadata": {},
   "outputs": [],
   "source": [
    "mergedMI.to_csv(r'/Users/arjankang/Downloads/2012MIData.csv')"
   ]
  },
  {
   "cell_type": "code",
   "execution_count": 10,
   "metadata": {},
   "outputs": [],
   "source": [
    "mergedWI.drop(columns = ['General_2008_11_04'], inplace=True)"
   ]
  },
  {
   "cell_type": "code",
   "execution_count": 11,
   "metadata": {},
   "outputs": [],
   "source": [
    "mergedWI.to_csv(r'/Users/arjankang/Downloads/2012WIData.csv')"
   ]
  },
  {
   "cell_type": "markdown",
   "metadata": {},
   "source": [
    "# 2008"
   ]
  },
  {
   "cell_type": "markdown",
   "metadata": {},
   "source": [
    "#### Functions to get the voter IDs in counties with margins less than 5% (1st) and then to merge with the latitude, longitude, and whether or not they voted in the elections (2nd)"
   ]
  },
  {
   "cell_type": "code",
   "execution_count": 12,
   "metadata": {},
   "outputs": [],
   "source": [
    "def getSlimVoterIDs2008(df):\n",
    "    \n",
    "    margins = df['ElectionReturns_G08_Cnty_Margin_Obama_D'].unique()\n",
    "    margins = margins.astype(str)\n",
    "    margins = [x[:-1] for x in margins]\n",
    "    margins = list(map(int, margins))\n",
    "    slimMargins = [x for x in margins if x <= 5 and x >= -5]\n",
    "    \n",
    "    string = '%'\n",
    "    slimMargins = [str(x) for x in slimMargins]\n",
    "    slimMargins = [x + string for x in slimMargins]\n",
    "    \n",
    "    dfSlimVoterIDs = df.loc[df['ElectionReturns_G08_Cnty_Margin_Obama_D'].isin(slimMargins)]\n",
    "    \n",
    "    return dfSlimVoterIDs\n",
    "    \n",
    "def mergeOnID(dfDemo, dfVoteHist, dfSlimVoterIDs):\n",
    "    dfDemo = dfDemo.loc[dfDemo['LALVOTERID'].isin(dfSlimVoterIDs['LALVOTERID'])]\n",
    "    dfVoteHist = dfVoteHist.loc[dfVoteHist['LALVOTERID'].isin(dfSlimVoterIDs['LALVOTERID'])]\n",
    "\n",
    "    merged = pd.merge(dfVoteHist, dfDemo, how = 'left', left_on = 'LALVOTERID', right_on = 'LALVOTERID')\n",
    "    \n",
    "    return merged"
   ]
  },
  {
   "cell_type": "code",
   "execution_count": 15,
   "metadata": {},
   "outputs": [],
   "source": [
    "#Michigan\n",
    "dfSlimVoterIDsMI2 = getSlimVoterIDs2008(dfMI2)\n",
    "mergedMI2 = mergeOnID(dfMIDemo2, dfMIVoteHist2, dfSlimVoterIDsMI2)"
   ]
  },
  {
   "cell_type": "code",
   "execution_count": 16,
   "metadata": {},
   "outputs": [],
   "source": [
    "#Wisconsin\n",
    "dfSlimVoterIDsWI2 = getSlimVoterIDs2008(dfWI2)\n",
    "mergedWI2 = mergeOnID(dfWIDemo2, dfWIVoteHist2, dfSlimVoterIDsWI2)"
   ]
  },
  {
   "cell_type": "code",
   "execution_count": 17,
   "metadata": {},
   "outputs": [],
   "source": [
    "mergedMI2.drop(columns = ['General_2012_11_06'], inplace=True)\n",
    "mergedMI2.to_csv(r'/Users/arjankang/Downloads/2008MIData.csv')\n",
    "mergedWI2.drop(columns = ['General_2012_11_06'], inplace=True)\n",
    "mergedWI2.to_csv(r'/Users/arjankang/Downloads/2008WIData.csv')"
   ]
  },
  {
   "cell_type": "code",
   "execution_count": null,
   "metadata": {},
   "outputs": [],
   "source": []
  }
 ],
 "metadata": {
  "kernelspec": {
   "display_name": "Python 3",
   "language": "python",
   "name": "python3"
  },
  "language_info": {
   "codemirror_mode": {
    "name": "ipython",
    "version": 3
   },
   "file_extension": ".py",
   "mimetype": "text/x-python",
   "name": "python",
   "nbconvert_exporter": "python",
   "pygments_lexer": "ipython3",
   "version": "3.8.0"
  }
 },
 "nbformat": 4,
 "nbformat_minor": 4
}
